{
 "cells": [
  {
   "cell_type": "markdown",
   "id": "6eb8e8ec",
   "metadata": {},
   "source": [
    "Primero importamos las librerías, definimos los paths y hacemos la lectura de los datasets"
   ]
  },
  {
   "cell_type": "code",
   "execution_count": 8,
   "id": "b02c1a7b",
   "metadata": {},
   "outputs": [],
   "source": [
    "import pandas as pd\n",
    "import os\n",
    "\n",
    "RAW_PATH = \"../data/raw/\"\n",
    "PROCESSED_PATH = \"../data/processed/\"\n",
    "\n",
    "train = pd.read_csv(os.path.join(RAW_PATH, \"train.csv\"))\n",
    "test = pd.read_csv(os.path.join(RAW_PATH, \"test.csv\"))\n",
    "gender = pd.read_csv(os.path.join(RAW_PATH, \"gender_submission.csv\"))"
   ]
  },
  {
   "cell_type": "markdown",
   "id": "4a58621a",
   "metadata": {},
   "source": [
    "Luego pasamos a eliminar columnas irrelevantes, imputamos los valores faltantes y lo convertimos las categorías de Sexo por ejemplo a numéricas.\n",
    "Procedemos a verificar haciendo imprimiendo el dataset"
   ]
  },
  {
   "cell_type": "code",
   "execution_count": 9,
   "id": "81b146a5",
   "metadata": {},
   "outputs": [
    {
     "name": "stdout",
     "output_type": "stream",
     "text": [
      "PassengerId    0\n",
      "Survived       0\n",
      "Pclass         0\n",
      "Name           0\n",
      "Sex            0\n",
      "Age            0\n",
      "SibSp          0\n",
      "Parch          0\n",
      "Fare           0\n",
      "Embarked       0\n",
      "dtype: int64\n"
     ]
    },
    {
     "name": "stderr",
     "output_type": "stream",
     "text": [
      "C:\\Users\\jairo\\AppData\\Local\\Temp\\ipykernel_28700\\3423750512.py:4: FutureWarning: A value is trying to be set on a copy of a DataFrame or Series through chained assignment using an inplace method.\n",
      "The behavior will change in pandas 3.0. This inplace method will never work because the intermediate object on which we are setting values always behaves as a copy.\n",
      "\n",
      "For example, when doing 'df[col].method(value, inplace=True)', try using 'df.method({col: value}, inplace=True)' or df[col] = df[col].method(value) instead, to perform the operation inplace on the original object.\n",
      "\n",
      "\n",
      "  train[\"Age\"].fillna(train[\"Age\"].median(), inplace=True)\n",
      "C:\\Users\\jairo\\AppData\\Local\\Temp\\ipykernel_28700\\3423750512.py:5: FutureWarning: A value is trying to be set on a copy of a DataFrame or Series through chained assignment using an inplace method.\n",
      "The behavior will change in pandas 3.0. This inplace method will never work because the intermediate object on which we are setting values always behaves as a copy.\n",
      "\n",
      "For example, when doing 'df[col].method(value, inplace=True)', try using 'df.method({col: value}, inplace=True)' or df[col] = df[col].method(value) instead, to perform the operation inplace on the original object.\n",
      "\n",
      "\n",
      "  train[\"Embarked\"].fillna(train[\"Embarked\"].mode()[0], inplace=True)\n",
      "C:\\Users\\jairo\\AppData\\Local\\Temp\\ipykernel_28700\\3423750512.py:14: FutureWarning: A value is trying to be set on a copy of a DataFrame or Series through chained assignment using an inplace method.\n",
      "The behavior will change in pandas 3.0. This inplace method will never work because the intermediate object on which we are setting values always behaves as a copy.\n",
      "\n",
      "For example, when doing 'df[col].method(value, inplace=True)', try using 'df.method({col: value}, inplace=True)' or df[col] = df[col].method(value) instead, to perform the operation inplace on the original object.\n",
      "\n",
      "\n",
      "  test[\"Age\"].fillna(train[\"Age\"].median(), inplace=True)\n",
      "C:\\Users\\jairo\\AppData\\Local\\Temp\\ipykernel_28700\\3423750512.py:15: FutureWarning: A value is trying to be set on a copy of a DataFrame or Series through chained assignment using an inplace method.\n",
      "The behavior will change in pandas 3.0. This inplace method will never work because the intermediate object on which we are setting values always behaves as a copy.\n",
      "\n",
      "For example, when doing 'df[col].method(value, inplace=True)', try using 'df.method({col: value}, inplace=True)' or df[col] = df[col].method(value) instead, to perform the operation inplace on the original object.\n",
      "\n",
      "\n",
      "  test[\"Fare\"].fillna(train[\"Fare\"].median(), inplace=True)\n"
     ]
    }
   ],
   "source": [
    "#PARA TRAIN\n",
    "train.drop(columns=[\"Cabin\", \"Ticket\"], inplace=True)\n",
    "\n",
    "train[\"Age\"].fillna(train[\"Age\"].median(), inplace=True)\n",
    "train[\"Embarked\"].fillna(train[\"Embarked\"].mode()[0], inplace=True)\n",
    "\n",
    "train[\"Sex\"] = train[\"Sex\"].map({\"male\": 0, \"female\": 1})\n",
    "train[\"Embarked\"] = train[\"Embarked\"].map({\"S\": 0, \"C\": 1, \"Q\": 2})\n",
    "\n",
    "print(train.isnull().sum())\n",
    "\n",
    "#PARA TEST\n",
    "test.drop(columns=[\"Cabin\", \"Ticket\"], inplace=True)\n",
    "test[\"Age\"].fillna(train[\"Age\"].median(), inplace=True)\n",
    "test[\"Fare\"].fillna(train[\"Fare\"].median(), inplace=True)\n",
    "test[\"Sex\"] = test[\"Sex\"].map({\"male\": 0, \"female\": 1})\n",
    "test[\"Embarked\"] = test[\"Embarked\"].map({\"S\": 0, \"C\": 1, \"Q\": 2})\n",
    "\n",
    "\n"
   ]
  },
  {
   "cell_type": "markdown",
   "id": "afbf4ef2",
   "metadata": {},
   "source": [
    "Validamos todo y lo guardamos en /processed\n",
    "\n",
    "Para esta esta etapa, por primero verficiamos que no haya NaN y guardamos los archivos ya limpios"
   ]
  },
  {
   "cell_type": "code",
   "execution_count": 10,
   "id": "a7090d78",
   "metadata": {},
   "outputs": [
    {
     "name": "stdout",
     "output_type": "stream",
     "text": [
      "PassengerId    0\n",
      "Survived       0\n",
      "Pclass         0\n",
      "Name           0\n",
      "Sex            0\n",
      "Age            0\n",
      "SibSp          0\n",
      "Parch          0\n",
      "Fare           0\n",
      "Embarked       0\n",
      "dtype: int64\n",
      "PassengerId    0\n",
      "Pclass         0\n",
      "Name           0\n",
      "Sex            0\n",
      "Age            0\n",
      "SibSp          0\n",
      "Parch          0\n",
      "Fare           0\n",
      "Embarked       0\n",
      "dtype: int64\n",
      "Archivos limpios guardados en processed\n"
     ]
    }
   ],
   "source": [
    "print(train.isnull().sum())\n",
    "print(test.isnull().sum())\n",
    "\n",
    "train.to_csv(os.path.join(PROCESSED_PATH, \"train_clean.csv\"), index=False)\n",
    "test.to_csv(os.path.join(PROCESSED_PATH, \"test_clean.csv\"), index=False)\n",
    "gender.to_csv(os.path.join(PROCESSED_PATH, \"gender_submission.csv\"), index=False)\n",
    "\n",
    "print(\"Archivos limpios guardados en processed\")\n"
   ]
  }
 ],
 "metadata": {
  "kernelspec": {
   "display_name": "Python 3",
   "language": "python",
   "name": "python3"
  },
  "language_info": {
   "codemirror_mode": {
    "name": "ipython",
    "version": 3
   },
   "file_extension": ".py",
   "mimetype": "text/x-python",
   "name": "python",
   "nbconvert_exporter": "python",
   "pygments_lexer": "ipython3",
   "version": "3.11.0"
  }
 },
 "nbformat": 4,
 "nbformat_minor": 5
}
