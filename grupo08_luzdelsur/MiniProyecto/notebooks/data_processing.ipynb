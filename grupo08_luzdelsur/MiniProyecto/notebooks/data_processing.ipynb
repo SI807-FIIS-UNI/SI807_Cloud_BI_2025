{
  "cells": [
    {
      "cell_type": "code",
      "execution_count": 1,
      "metadata": {
        "colab": {
          "base_uri": "https://localhost:8080/"
        },
        "id": "i8UVqqpWsu_R",
        "outputId": "6f4ed76a-b4d0-49dc-f3d6-2eba926ba34f"
      },
      "outputs": [
        {
          "name": "stdout",
          "output_type": "stream",
          "text": [
            "Note: you may need to restart the kernel to use updated packages.Defaulting to user installation because normal site-packages is not writeable\n",
            "Requirement already satisfied: kagglehub[pandas-datasets] in c:\\users\\user\\appdata\\roaming\\python\\python311\\site-packages (0.3.13)\n",
            "Requirement already satisfied: packaging in c:\\users\\user\\appdata\\roaming\\python\\python311\\site-packages (from kagglehub[pandas-datasets]) (24.2)\n",
            "Requirement already satisfied: pyyaml in c:\\programdata\\anaconda3\\lib\\site-packages (from kagglehub[pandas-datasets]) (6.0.1)\n",
            "Requirement already satisfied: requests in c:\\programdata\\anaconda3\\lib\\site-packages (from kagglehub[pandas-datasets]) (2.31.0)\n",
            "Requirement already satisfied: tqdm in c:\\programdata\\anaconda3\\lib\\site-packages (from kagglehub[pandas-datasets]) (4.65.0)\n",
            "Requirement already satisfied: pandas in c:\\programdata\\anaconda3\\lib\\site-packages (from kagglehub[pandas-datasets]) (2.1.4)\n",
            "Requirement already satisfied: numpy<2,>=1.23.2 in c:\\programdata\\anaconda3\\lib\\site-packages (from pandas->kagglehub[pandas-datasets]) (1.26.4)\n",
            "Requirement already satisfied: python-dateutil>=2.8.2 in c:\\programdata\\anaconda3\\lib\\site-packages (from pandas->kagglehub[pandas-datasets]) (2.8.2)\n",
            "Requirement already satisfied: pytz>=2020.1 in c:\\programdata\\anaconda3\\lib\\site-packages (from pandas->kagglehub[pandas-datasets]) (2023.3.post1)\n",
            "Requirement already satisfied: tzdata>=2022.1 in c:\\programdata\\anaconda3\\lib\\site-packages (from pandas->kagglehub[pandas-datasets]) (2023.3)\n",
            "Requirement already satisfied: charset-normalizer<4,>=2 in c:\\programdata\\anaconda3\\lib\\site-packages (from requests->kagglehub[pandas-datasets]) (2.0.4)\n",
            "Requirement already satisfied: idna<4,>=2.5 in c:\\programdata\\anaconda3\\lib\\site-packages (from requests->kagglehub[pandas-datasets]) (3.4)\n",
            "Requirement already satisfied: urllib3<3,>=1.21.1 in c:\\programdata\\anaconda3\\lib\\site-packages (from requests->kagglehub[pandas-datasets]) (2.0.7)\n",
            "Requirement already satisfied: certifi>=2017.4.17 in c:\\programdata\\anaconda3\\lib\\site-packages (from requests->kagglehub[pandas-datasets]) (2024.2.2)\n",
            "Requirement already satisfied: colorama in c:\\programdata\\anaconda3\\lib\\site-packages (from tqdm->kagglehub[pandas-datasets]) (0.4.6)\n",
            "Requirement already satisfied: six>=1.5 in c:\\programdata\\anaconda3\\lib\\site-packages (from python-dateutil>=2.8.2->pandas->kagglehub[pandas-datasets]) (1.16.0)\n",
            "\n"
          ]
        },
        {
          "name": "stderr",
          "output_type": "stream",
          "text": [
            "DEPRECATION: Loading egg at c:\\programdata\\anaconda3\\lib\\site-packages\\vboxapi-1.0-py3.11.egg is deprecated. pip 24.3 will enforce this behaviour change. A possible replacement is to use pip for package installation.. Discussion can be found at https://github.com/pypa/pip/issues/12330\n"
          ]
        }
      ],
      "source": [
        "pip install kagglehub[pandas-datasets]"
      ]
    },
    {
      "cell_type": "code",
      "execution_count": 10,
      "metadata": {
        "colab": {
          "base_uri": "https://localhost:8080/"
        },
        "id": "l9Ja3RXnt2AK",
        "outputId": "f34c6ed4-739f-4884-f244-7ed0ec1144a0"
      },
      "outputs": [
        {
          "name": "stdout",
          "output_type": "stream",
          "text": [
            "Using Colab cache for faster access to the 'sample-sales-data' dataset.\n",
            "   ORDERNUMBER  QUANTITYORDERED  PRICEEACH  ORDERLINENUMBER    SALES  \\\n",
            "0        10107               30      95.70                2  2871.00   \n",
            "1        10121               34      81.35                5  2765.90   \n",
            "2        10134               41      94.74                2  3884.34   \n",
            "3        10145               45      83.26                6  3746.70   \n",
            "4        10159               49     100.00               14  5205.27   \n",
            "\n",
            "         ORDERDATE   STATUS  QTR_ID  MONTH_ID  YEAR_ID  ...  \\\n",
            "0   2/24/2003 0:00  Shipped       1         2     2003  ...   \n",
            "1    5/7/2003 0:00  Shipped       2         5     2003  ...   \n",
            "2    7/1/2003 0:00  Shipped       3         7     2003  ...   \n",
            "3   8/25/2003 0:00  Shipped       3         8     2003  ...   \n",
            "4  10/10/2003 0:00  Shipped       4        10     2003  ...   \n",
            "\n",
            "                    ADDRESSLINE1  ADDRESSLINE2           CITY STATE  \\\n",
            "0        897 Long Airport Avenue           NaN            NYC    NY   \n",
            "1             59 rue de l'Abbaye           NaN          Reims   NaN   \n",
            "2  27 rue du Colonel Pierre Avia           NaN          Paris   NaN   \n",
            "3             78934 Hillside Dr.           NaN       Pasadena    CA   \n",
            "4                7734 Strong St.           NaN  San Francisco    CA   \n",
            "\n",
            "  POSTALCODE COUNTRY TERRITORY CONTACTLASTNAME CONTACTFIRSTNAME DEALSIZE  \n",
            "0      10022     USA       NaN              Yu             Kwai    Small  \n",
            "1      51100  France      EMEA         Henriot             Paul    Small  \n",
            "2      75508  France      EMEA        Da Cunha           Daniel   Medium  \n",
            "3      90003     USA       NaN           Young            Julie   Medium  \n",
            "4        NaN     USA       NaN           Brown            Julie   Medium  \n",
            "\n",
            "[5 rows x 25 columns]\n"
          ]
        }
      ],
      "source": [
        "import kagglehub\n",
        "import pandas as pd\n",
        "\n",
        "# Especifica el dataset completo de Kaggle (usuario/nombre)\n",
        "# Por ejemplo, el dataset común que contiene \"sales_data_sample.csv\" es:\n",
        "# https://www.kaggle.com/datasets/kyanyoga/sample-sales-data\n",
        "dataset_path = kagglehub.dataset_download(\"kyanyoga/sample-sales-data\")\n",
        "\n",
        "# Ahora carga el archivo CSV con pandas\n",
        "file_path = f\"{dataset_path}/sales_data_sample.csv\"\n",
        "df = pd.read_csv(file_path, encoding='latin1')  # a veces necesita encoding\n",
        "\n",
        "print(df.head())"
      ]
    },
    {
      "cell_type": "code",
      "execution_count": 15,
      "metadata": {
        "id": "1DwiMz6nvZtZ"
      },
      "outputs": [],
      "source": [
        "df = df.dropna()"
      ]
    },
    {
      "cell_type": "code",
      "execution_count": 16,
      "metadata": {
        "colab": {
          "base_uri": "https://localhost:8080/"
        },
        "id": "bhJ_lNlYvbkR",
        "outputId": "ae8f7aec-2e28-489c-8165-d8d89cb90aa3"
      },
      "outputs": [
        {
          "name": "stdout",
          "output_type": "stream",
          "text": [
            "ORDERNUMBER         0\n",
            "QUANTITYORDERED     0\n",
            "PRICEEACH           0\n",
            "ORDERLINENUMBER     0\n",
            "SALES               0\n",
            "ORDERDATE           0\n",
            "STATUS              0\n",
            "QTR_ID              0\n",
            "MONTH_ID            0\n",
            "YEAR_ID             0\n",
            "PRODUCTLINE         0\n",
            "MSRP                0\n",
            "PRODUCTCODE         0\n",
            "CUSTOMERNAME        0\n",
            "PHONE               0\n",
            "ADDRESSLINE1        0\n",
            "ADDRESSLINE2        0\n",
            "CITY                0\n",
            "STATE               0\n",
            "POSTALCODE          0\n",
            "COUNTRY             0\n",
            "TERRITORY           0\n",
            "CONTACTLASTNAME     0\n",
            "CONTACTFIRSTNAME    0\n",
            "DEALSIZE            0\n",
            "dtype: int64\n"
          ]
        }
      ],
      "source": [
        "print(df.isnull().sum())"
      ]
    },
    {
      "cell_type": "code",
      "execution_count": 17,
      "metadata": {
        "colab": {
          "base_uri": "https://localhost:8080/"
        },
        "id": "pTwXq85_vhEw",
        "outputId": "2feba0fc-c5c0-4fae-8765-4691e4ecb1d5"
      },
      "outputs": [
        {
          "name": "stdout",
          "output_type": "stream",
          "text": [
            "    ORDERNUMBER  QUANTITYORDERED  PRICEEACH  ORDERLINENUMBER    SALES  \\\n",
            "10        10223               37     100.00                1  3965.66   \n",
            "21        10361               20      72.55               13  1451.00   \n",
            "40        10270               21     100.00                9  4905.39   \n",
            "47        10347               30     100.00                1  3944.70   \n",
            "51        10391               24     100.00                4  2416.56   \n",
            "\n",
            "          ORDERDATE   STATUS  QTR_ID  MONTH_ID  YEAR_ID  ...  \\\n",
            "10   2/20/2004 0:00  Shipped       1         2     2004  ...   \n",
            "21  12/17/2004 0:00  Shipped       4        12     2004  ...   \n",
            "40   7/19/2004 0:00  Shipped       3         7     2004  ...   \n",
            "47  11/29/2004 0:00  Shipped       4        11     2004  ...   \n",
            "51    3/9/2005 0:00  Shipped       1         3     2005  ...   \n",
            "\n",
            "                               ADDRESSLINE1  ADDRESSLINE2          CITY  \\\n",
            "10                        636 St Kilda Road       Level 3     Melbourne   \n",
            "21  Monitor Money Building, 815 Pacific Hwy       Level 6     Chatswood   \n",
            "40  Monitor Money Building, 815 Pacific Hwy       Level 6     Chatswood   \n",
            "47                        636 St Kilda Road       Level 3     Melbourne   \n",
            "51                        201 Miller Street      Level 15  North Sydney   \n",
            "\n",
            "       STATE POSTALCODE    COUNTRY TERRITORY CONTACTLASTNAME CONTACTFIRSTNAME  \\\n",
            "10  Victoria       3004  Australia      APAC        Ferguson            Peter   \n",
            "21       NSW       2067  Australia      APAC          Huxley           Adrian   \n",
            "40       NSW       2067  Australia      APAC          Huxley           Adrian   \n",
            "47  Victoria       3004  Australia      APAC        Ferguson            Peter   \n",
            "51       NSW       2060  Australia      APAC          O'Hara             Anna   \n",
            "\n",
            "   DEALSIZE  \n",
            "10   Medium  \n",
            "21    Small  \n",
            "40   Medium  \n",
            "47   Medium  \n",
            "51    Small  \n",
            "\n",
            "[5 rows x 25 columns]\n"
          ]
        }
      ],
      "source": [
        "print(df.head())"
      ]
    },
    {
      "cell_type": "code",
      "execution_count": null,
      "metadata": {
        "colab": {
          "base_uri": "https://localhost:8080/"
        },
        "id": "IjsQwIPnwINg",
        "outputId": "f5d91369-790c-49ff-af80-ce7da007a777"
      },
      "outputs": [
        {
          "name": "stdout",
          "output_type": "stream",
          "text": [
            "\n",
            "✅ Datos limpios guardados en: sales_data_clean.csv\n"
          ]
        }
      ],
      "source": [
        "df_clean = df.dropna()\n",
        "\n",
        "# Guardar el CSV procesado\n",
        "output_file = \"sales_data_clean.csv\"\n",
        "df_clean.to_csv(output_file, index=False, encoding='utf-8')\n",
        "\n",
        "print(f\"\\nDatos limpios guardados en: {output_file}\")"
      ]
    }
  ],
  "metadata": {
    "colab": {
      "provenance": []
    },
    "kernelspec": {
      "display_name": "base",
      "language": "python",
      "name": "python3"
    },
    "language_info": {
      "codemirror_mode": {
        "name": "ipython",
        "version": 3
      },
      "file_extension": ".py",
      "mimetype": "text/x-python",
      "name": "python",
      "nbconvert_exporter": "python",
      "pygments_lexer": "ipython3",
      "version": "3.11.7"
    }
  },
  "nbformat": 4,
  "nbformat_minor": 0
}
