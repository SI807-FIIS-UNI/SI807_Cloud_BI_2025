{
 "cells": [
  {
   "cell_type": "markdown",
   "id": "e9ceccbc",
   "metadata": {},
   "source": [
    "# Insights de Negocio y Recomendaciones\n",
    "\n",
    "Este notebook aplica técnicas avanzadas de análisis para extraer insights accionables. Incluye segmentación de clientes mediante RFM y clustering, análisis de desempeño de productos, identificación de patrones estacionales y análisis geográfico para generar recomendaciones estratégicas basadas en datos."
   ]
  },
  {
   "cell_type": "code",
   "execution_count": null,
   "id": "3c7d507e",
   "metadata": {},
   "outputs": [],
   "source": [
    "import pandas as pd\n",
    "import numpy as np\n",
    "import matplotlib.pyplot as plt\n",
    "import seaborn as sns\n",
    "from sklearn.cluster import KMeans\n",
    "from sklearn.preprocessing import StandardScaler\n",
    "from pathlib import Path\n",
    "\n",
    "sns.set_style('whitegrid')\n",
    "plt.rcParams['figure.figsize'] = (12, 6)"
   ]
  },
  {
   "cell_type": "markdown",
   "id": "38e8dd57",
   "metadata": {},
   "source": [
    "## 1. Carga y Preparación de Datos\n",
    "\n",
    "Cargamos el dataset limpio y preparamos las estructuras de datos necesarias para análisis avanzados. La conversión de ORDERDATE a datetime es esencial para calcular métricas temporales como recencia de compra en la segmentación RFM."
   ]
  },
  {
   "cell_type": "code",
   "execution_count": null,
   "id": "8e8d94c6",
   "metadata": {},
   "outputs": [],
   "source": [
    "df = pd.read_csv('../data/processed/sales_data_clean.csv')\n",
    "df['ORDERDATE'] = pd.to_datetime(df['ORDERDATE'])\n",
    "print(f\"Data loaded: {df.shape}\")"
   ]
  },
  {
   "cell_type": "markdown",
   "id": "449f1997",
   "metadata": {},
   "source": [
    "## 2. Segmentación de Clientes\n",
    "\n",
    "La segmentación permite identificar grupos de clientes con comportamientos similares para aplicar estrategias diferenciadas.\n",
    "\n",
    "### 2.1 Análisis RFM (Recency, Frequency, Monetary)\n",
    "\n",
    "RFM es una técnica de marketing que segmenta clientes en tres dimensiones: Recency (qué tan recientemente compraron), Frequency (qué tan seguido compran), y Monetary (cuánto gastan). Calculamos cada métrica por cliente y asignamos scores del 1-4 usando cuartiles. Clientes con scores altos en las tres dimensiones son los más valiosos."
   ]
  },
  {
   "cell_type": "code",
   "execution_count": null,
   "id": "223b183b",
   "metadata": {},
   "outputs": [],
   "source": [
    "snapshot_date = df['ORDERDATE'].max() + pd.Timedelta(days=1)\n",
    "\n",
    "rfm = df.groupby('CUSTOMERNAME').agg({\n",
    "    'ORDERDATE': lambda x: (snapshot_date - x.max()).days,\n",
    "    'ORDERNUMBER': 'nunique',\n",
    "    'SALES': 'sum'\n",
    "})\n",
    "\n",
    "rfm.columns = ['Recency', 'Frequency', 'Monetary']\n",
    "rfm['Recency_Score'] = pd.qcut(rfm['Recency'], 4, labels=[4, 3, 2, 1])\n",
    "rfm['Frequency_Score'] = pd.qcut(rfm['Frequency'].rank(method='first'), 4, labels=[1, 2, 3, 4])\n",
    "rfm['Monetary_Score'] = pd.qcut(rfm['Monetary'], 4, labels=[1, 2, 3, 4])\n",
    "rfm['RFM_Score'] = rfm['Recency_Score'].astype(str) + rfm['Frequency_Score'].astype(str) + rfm['Monetary_Score'].astype(str)\n",
    "\n",
    "print(\"RFM Analysis Sample:\")\n",
    "print(rfm.head(10))"
   ]
  },
  {
   "cell_type": "code",
   "execution_count": null,
   "id": "cfac33da",
   "metadata": {},
   "outputs": [],
   "source": [
    "def segment_customer(row):\n",
    "    r, f, m = int(row['Recency_Score']), int(row['Frequency_Score']), int(row['Monetary_Score'])\n",
    "    \n",
    "    if r >= 3 and f >= 3 and m >= 3:\n",
    "        return 'Champions'\n",
    "    elif r >= 3 and f >= 2:\n",
    "        return 'Loyal Customers'\n",
    "    elif r >= 3:\n",
    "        return 'Potential Loyalists'\n",
    "    elif f >= 3 and m >= 3:\n",
    "        return 'At Risk'\n",
    "    elif r <= 2 and f <= 2:\n",
    "        return 'Lost'\n",
    "    else:\n",
    "        return 'Others'\n",
    "\n",
    "rfm['Segment'] = rfm.apply(segment_customer, axis=1)\n",
    "segment_counts = rfm['Segment'].value_counts()\n",
    "print(\"\\nCustomer Segments:\")\n",
    "print(segment_counts)"
   ]
  },
  {
   "cell_type": "code",
   "execution_count": null,
   "id": "48e469b8",
   "metadata": {},
   "outputs": [],
   "source": [
    "fig, axes = plt.subplots(1, 2, figsize=(16, 6))\n",
    "\n",
    "axes[0].pie(segment_counts.values, labels=segment_counts.index, autopct='%1.1f%%', startangle=90)\n",
    "axes[0].set_title('Customer Segmentation Distribution')\n",
    "\n",
    "segment_value = rfm.groupby('Segment')['Monetary'].sum().sort_values(ascending=False)\n",
    "axes[1].barh(segment_value.index, segment_value.values)\n",
    "axes[1].set_xlabel('Total Monetary Value ($)')\n",
    "axes[1].set_title('Monetary Value by Customer Segment')\n",
    "axes[1].invert_yaxis()\n",
    "\n",
    "plt.tight_layout()\n",
    "plt.savefig('../results/customer_segmentation.png', dpi=300, bbox_inches='tight')\n",
    "plt.show()"
   ]
  },
  {
   "cell_type": "markdown",
   "id": "34483c84",
   "metadata": {},
   "source": [
    "### 2.2 Clustering con K-Means\n",
    "\n",
    "Aplicamos el algoritmo K-Means de machine learning para segmentación no supervisada. Primero normalizamos las variables RFM usando StandardScaler para que tengan la misma escala. Luego agrupamos clientes en 4 clusters basados en similitud multidimensional. Este método complementa RFM descubriendo segmentos naturales en los datos."
   ]
  },
  {
   "cell_type": "code",
   "execution_count": null,
   "id": "d8c5f6c5",
   "metadata": {},
   "outputs": [],
   "source": [
    "rfm_normalized = rfm[['Recency', 'Frequency', 'Monetary']].copy()\n",
    "scaler = StandardScaler()\n",
    "rfm_scaled = scaler.fit_transform(rfm_normalized)\n",
    "\n",
    "kmeans = KMeans(n_clusters=4, random_state=42, n_init=10)\n",
    "rfm['Cluster'] = kmeans.fit_predict(rfm_scaled)\n",
    "\n",
    "cluster_summary = rfm.groupby('Cluster')[['Recency', 'Frequency', 'Monetary']].mean().round(2)\n",
    "print(\"\\nCluster Characteristics:\")\n",
    "print(cluster_summary)"
   ]
  },
  {
   "cell_type": "code",
   "execution_count": null,
   "id": "8fd3c63e",
   "metadata": {},
   "outputs": [],
   "source": [
    "fig = plt.figure(figsize=(14, 6))\n",
    "ax = fig.add_subplot(121, projection='3d')\n",
    "\n",
    "scatter = ax.scatter(rfm['Recency'], rfm['Frequency'], rfm['Monetary'], \n",
    "                    c=rfm['Cluster'], cmap='viridis', alpha=0.6, s=50)\n",
    "ax.set_xlabel('Recency')\n",
    "ax.set_ylabel('Frequency')\n",
    "ax.set_zlabel('Monetary')\n",
    "ax.set_title('Customer Clusters (3D)')\n",
    "plt.colorbar(scatter, ax=ax, label='Cluster')\n",
    "\n",
    "ax2 = fig.add_subplot(122)\n",
    "cluster_counts = rfm['Cluster'].value_counts().sort_index()\n",
    "ax2.bar(cluster_counts.index, cluster_counts.values)\n",
    "ax2.set_xlabel('Cluster')\n",
    "ax2.set_ylabel('Number of Customers')\n",
    "ax2.set_title('Customers per Cluster')\n",
    "\n",
    "plt.tight_layout()\n",
    "plt.savefig('../results/kmeans_clustering.png', dpi=300, bbox_inches='tight')\n",
    "plt.show()"
   ]
  },
  {
   "cell_type": "markdown",
   "id": "d2bdcf33",
   "metadata": {},
   "source": [
    "## 3. Análisis de Desempeño de Productos\n",
    "\n",
    "Evaluamos cada producto individualmente para identificar top performers y underperformers. Agregamos por PRODUCTCODE calculando ventas totales, conteo de órdenes, cantidad vendida y precio promedio. La métrica Revenue_per_Order (ingreso por orden) indica la eficiencia de cada producto en generar valor por transacción."
   ]
  },
  {
   "cell_type": "code",
   "execution_count": null,
   "id": "5cb4f2de",
   "metadata": {},
   "outputs": [],
   "source": [
    "product_performance = df.groupby('PRODUCTCODE').agg({\n",
    "    'SALES': ['sum', 'count'],\n",
    "    'QUANTITYORDERED': 'sum',\n",
    "    'PRICEEACH': 'mean'\n",
    "})\n",
    "product_performance.columns = ['Total_Sales', 'Order_Count', 'Total_Quantity', 'Avg_Price']\n",
    "product_performance['Revenue_per_Order'] = product_performance['Total_Sales'] / product_performance['Order_Count']\n",
    "product_performance = product_performance.sort_values('Total_Sales', ascending=False)\n",
    "\n",
    "print(\"Top 10 Products by Sales:\")\n",
    "print(product_performance.head(10))"
   ]
  },
  {
   "cell_type": "code",
   "execution_count": null,
   "id": "1c886d24",
   "metadata": {},
   "outputs": [],
   "source": [
    "top_products = product_performance.head(20)\n",
    "\n",
    "fig, axes = plt.subplots(2, 1, figsize=(14, 10))\n",
    "\n",
    "axes[0].barh(range(len(top_products)), top_products['Total_Sales'])\n",
    "axes[0].set_yticks(range(len(top_products)))\n",
    "axes[0].set_yticklabels(top_products.index)\n",
    "axes[0].set_xlabel('Total Sales ($)')\n",
    "axes[0].set_title('Top 20 Products by Revenue')\n",
    "axes[0].invert_yaxis()\n",
    "\n",
    "axes[1].scatter(top_products['Order_Count'], top_products['Total_Sales'], \n",
    "               s=top_products['Total_Quantity'], alpha=0.6)\n",
    "axes[1].set_xlabel('Number of Orders')\n",
    "axes[1].set_ylabel('Total Sales ($)')\n",
    "axes[1].set_title('Product Performance: Orders vs Sales (bubble size = quantity)')\n",
    "axes[1].grid(True, alpha=0.3)\n",
    "\n",
    "plt.tight_layout()\n",
    "plt.savefig('../results/product_performance.png', dpi=300, bbox_inches='tight')\n",
    "plt.show()"
   ]
  },
  {
   "cell_type": "markdown",
   "id": "b96d2ef9",
   "metadata": {},
   "source": [
    "## 4. Identificación de Patrones Estacionales\n",
    "\n",
    "Analizamos variaciones temporales en las ventas para detectar estacionalidad. Agregamos por mes para identificar meses pico y valles, información crítica para gestión de inventario y planificación de campañas. También analizamos por día de la semana para optimizar operaciones diarias y promociones."
   ]
  },
  {
   "cell_type": "code",
   "execution_count": null,
   "id": "777508c8",
   "metadata": {},
   "outputs": [],
   "source": [
    "df['Month'] = df['ORDERDATE'].dt.month\n",
    "df['DayOfWeek'] = df['ORDERDATE'].dt.dayofweek\n",
    "\n",
    "monthly_pattern = df.groupby('Month')['SALES'].agg(['sum', 'count', 'mean'])\n",
    "monthly_pattern.columns = ['Total_Sales', 'Order_Count', 'Avg_Sales']\n",
    "\n",
    "print(\"Monthly Sales Pattern:\")\n",
    "print(monthly_pattern)"
   ]
  },
  {
   "cell_type": "code",
   "execution_count": null,
   "id": "27ee73c5",
   "metadata": {},
   "outputs": [],
   "source": [
    "fig, axes = plt.subplots(2, 1, figsize=(14, 10))\n",
    "\n",
    "month_names = ['Jan', 'Feb', 'Mar', 'Apr', 'May', 'Jun', 'Jul', 'Aug', 'Sep', 'Oct', 'Nov', 'Dec']\n",
    "axes[0].plot(monthly_pattern.index, monthly_pattern['Total_Sales'], marker='o', linewidth=2)\n",
    "axes[0].set_xticks(range(1, 13))\n",
    "axes[0].set_xticklabels(month_names)\n",
    "axes[0].set_ylabel('Total Sales ($)')\n",
    "axes[0].set_title('Monthly Sales Pattern')\n",
    "axes[0].grid(True, alpha=0.3)\n",
    "\n",
    "dayofweek_pattern = df.groupby('DayOfWeek')['SALES'].sum()\n",
    "day_names = ['Mon', 'Tue', 'Wed', 'Thu', 'Fri', 'Sat', 'Sun']\n",
    "axes[1].bar(dayofweek_pattern.index, dayofweek_pattern.values)\n",
    "axes[1].set_xticks(range(7))\n",
    "axes[1].set_xticklabels(day_names)\n",
    "axes[1].set_ylabel('Total Sales ($)')\n",
    "axes[1].set_title('Sales by Day of Week')\n",
    "\n",
    "plt.tight_layout()\n",
    "plt.savefig('../results/seasonal_patterns.png', dpi=300, bbox_inches='tight')\n",
    "plt.show()"
   ]
  },
  {
   "cell_type": "markdown",
   "id": "f2d85a84",
   "metadata": {},
   "source": [
    "## 5. Análisis Geográfico Detallado\n",
    "\n",
    "Profundizamos en el desempeño por ubicación geográfica. Cruzamos COUNTRY con TERRITORY para entender dinámicas regionales. Calculamos Sales_per_Customer (ventas por cliente) para medir la eficiencia de penetración en cada mercado. Mercados con alto sales per customer pero pocos clientes representan oportunidades de expansión."
   ]
  },
  {
   "cell_type": "code",
   "execution_count": null,
   "id": "98b61c14",
   "metadata": {},
   "outputs": [],
   "source": [
    "geo_analysis = df.groupby(['COUNTRY', 'TERRITORY']).agg({\n",
    "    'SALES': 'sum',\n",
    "    'ORDERNUMBER': 'nunique',\n",
    "    'CUSTOMERNAME': 'nunique'\n",
    "}).reset_index()\n",
    "geo_analysis.columns = ['Country', 'Territory', 'Total_Sales', 'Orders', 'Customers']\n",
    "geo_analysis['Sales_per_Customer'] = geo_analysis['Total_Sales'] / geo_analysis['Customers']\n",
    "geo_analysis = geo_analysis.sort_values('Total_Sales', ascending=False)\n",
    "\n",
    "print(\"Top 15 Countries by Sales:\")\n",
    "print(geo_analysis.head(15))"
   ]
  },
  {
   "cell_type": "code",
   "execution_count": null,
   "id": "71800b0a",
   "metadata": {},
   "outputs": [],
   "source": [
    "territory_summary = df.groupby('TERRITORY').agg({\n",
    "    'SALES': 'sum',\n",
    "    'CUSTOMERNAME': 'nunique',\n",
    "    'PRODUCTLINE': 'nunique'\n",
    "}).reset_index()\n",
    "territory_summary.columns = ['Territory', 'Total_Sales', 'Customers', 'Product_Lines']\n",
    "territory_summary['Sales_per_Customer'] = territory_summary['Total_Sales'] / territory_summary['Customers']\n",
    "\n",
    "print(\"\\nTerritory Performance:\")\n",
    "print(territory_summary)"
   ]
  },
  {
   "cell_type": "markdown",
   "id": "662b2e7d",
   "metadata": {},
   "source": [
    "## 6. Compilación de Insights Clave\n",
    "\n",
    "Sintetizamos los hallazgos más importantes del análisis en insights accionables. Identificamos la línea de producto top, mejor mes de ventas, territorio líder, valor promedio de orden, concentración de clientes y tamaño de deal más común. Estos insights forman la base para decisiones estratégicas de negocio."
   ]
  },
  {
   "cell_type": "code",
   "execution_count": null,
   "id": "1fd9103a",
   "metadata": {},
   "outputs": [],
   "source": [
    "insights = []\n",
    "\n",
    "# Top performing product line\n",
    "top_productline = df.groupby('PRODUCTLINE')['SALES'].sum().idxmax()\n",
    "insights.append(f\"Top Product Line: {top_productline}\")\n",
    "\n",
    "# Best month\n",
    "best_month = monthly_pattern['Total_Sales'].idxmax()\n",
    "insights.append(f\"Best Sales Month: {month_names[best_month-1]}\")\n",
    "\n",
    "# Top territory\n",
    "top_territory = df.groupby('TERRITORY')['SALES'].sum().idxmax()\n",
    "insights.append(f\"Top Territory: {top_territory}\")\n",
    "\n",
    "# Average order value\n",
    "avg_order_value = df.groupby('ORDERNUMBER')['SALES'].sum().mean()\n",
    "insights.append(f\"Average Order Value: ${avg_order_value:.2f}\")\n",
    "\n",
    "# Customer concentration\n",
    "top_20_customers_pct = (rfm.nlargest(20, 'Monetary')['Monetary'].sum() / rfm['Monetary'].sum()) * 100\n",
    "insights.append(f\"Top 20 Customers Contribution: {top_20_customers_pct:.1f}%\")\n",
    "\n",
    "# Most common deal size\n",
    "common_dealsize = df['DEALSIZE'].value_counts().idxmax()\n",
    "insights.append(f\"Most Common Deal Size: {common_dealsize}\")\n",
    "\n",
    "print(\"\\n\" + \"=\"*60)\n",
    "print(\"KEY BUSINESS INSIGHTS\")\n",
    "print(\"=\"*60)\n",
    "for i, insight in enumerate(insights, 1):\n",
    "    print(f\"{i}. {insight}\")"
   ]
  },
  {
   "cell_type": "markdown",
   "id": "0148969f",
   "metadata": {},
   "source": [
    "## 7. Generación de Recomendaciones Estratégicas\n",
    "\n",
    "Basándonos en los insights descubiertos, formulamos recomendaciones accionables. Cada recomendación está vinculada a un hallazgo específico del análisis y propone acciones concretas: desde enfocar esfuerzos de marketing en segmentos específicos hasta optimizar inventario estacional y replicar estrategias exitosas entre territorios."
   ]
  },
  {
   "cell_type": "code",
   "execution_count": null,
   "id": "ca36293e",
   "metadata": {},
   "outputs": [],
   "source": [
    "recommendations = [\n",
    "    \"Focus marketing efforts on Champions and Loyal Customers for upselling opportunities\",\n",
    "    \"Develop re-engagement campaigns for 'At Risk' and 'Lost' customer segments\",\n",
    "    f\"Increase inventory and promotions for {top_productline} during peak seasons\",\n",
    "    f\"Replicate successful strategies from {top_territory} to other territories\",\n",
    "    \"Implement targeted promotions during low-sales months to smooth seasonal variations\",\n",
    "    \"Analyze and address why certain product lines underperform in specific regions\",\n",
    "    \"Consider loyalty programs for high-frequency, high-monetary value customers\",\n",
    "    \"Investigate factors contributing to 'Disputed' and 'Cancelled' orders to reduce losses\"\n",
    "]\n",
    "\n",
    "print(\"\\n\" + \"=\"*60)\n",
    "print(\"STRATEGIC RECOMMENDATIONS\")\n",
    "print(\"=\"*60)\n",
    "for i, rec in enumerate(recommendations, 1):\n",
    "    print(f\"{i}. {rec}\")"
   ]
  },
  {
   "cell_type": "markdown",
   "id": "048501c2",
   "metadata": {},
   "source": [
    "## 8. Exportación de Resultados\n",
    "\n",
    "Guardamos todos los análisis en archivos CSV para consumo externo. El análisis RFM, desempeño de productos y análisis geográfico se exportan como tablas. Los insights y recomendaciones se guardan en formato texto para fácil lectura por stakeholders. Estos outputs alimentan dashboards, reportes ejecutivos y sistemas de BI."
   ]
  },
  {
   "cell_type": "code",
   "execution_count": null,
   "id": "55b4f221",
   "metadata": {},
   "outputs": [],
   "source": [
    "rfm.to_csv('../results/customer_rfm_analysis.csv')\n",
    "product_performance.to_csv('../results/product_performance.csv')\n",
    "geo_analysis.to_csv('../results/geographic_analysis.csv', index=False)\n",
    "\n",
    "with open('../results/business_insights.txt', 'w') as f:\n",
    "    f.write(\"KEY BUSINESS INSIGHTS\\n\")\n",
    "    f.write(\"=\"*60 + \"\\n\")\n",
    "    for i, insight in enumerate(insights, 1):\n",
    "        f.write(f\"{i}. {insight}\\n\")\n",
    "    \n",
    "    f.write(\"\\n\" + \"=\"*60 + \"\\n\")\n",
    "    f.write(\"STRATEGIC RECOMMENDATIONS\\n\")\n",
    "    f.write(\"=\"*60 + \"\\n\")\n",
    "    for i, rec in enumerate(recommendations, 1):\n",
    "        f.write(f\"{i}. {rec}\\n\")\n",
    "\n",
    "print(\"\\nAll results exported to results/ directory\")"
   ]
  }
 ],
 "metadata": {
  "language_info": {
   "name": "python"
  }
 },
 "nbformat": 4,
 "nbformat_minor": 5
}
