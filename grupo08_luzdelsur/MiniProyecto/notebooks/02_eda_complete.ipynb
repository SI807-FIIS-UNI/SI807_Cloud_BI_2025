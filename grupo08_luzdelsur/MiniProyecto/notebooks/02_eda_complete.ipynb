{
 "cells": [
  {
   "cell_type": "markdown",
   "id": "6b0c1a7a",
   "metadata": {},
   "source": [
    "# Análisis Exploratorio de Datos (EDA)\n",
    "\n",
    "Este notebook realiza un análisis exploratorio completo de los datos de ventas. Incluye análisis univariado (una variable), bivariado (dos variables) y multivariado (múltiples variables) para descubrir patrones, tendencias y relaciones en los datos."
   ]
  },
  {
   "cell_type": "code",
   "execution_count": null,
   "id": "60a6bc64",
   "metadata": {},
   "outputs": [],
   "source": [
    "import pandas as pd\n",
    "import numpy as np\n",
    "import matplotlib.pyplot as plt\n",
    "import seaborn as sns\n",
    "import plotly.express as px\n",
    "import plotly.graph_objects as go\n",
    "from pathlib import Path\n",
    "from scipy import stats\n",
    "\n",
    "sns.set_style('whitegrid')\n",
    "plt.rcParams['figure.figsize'] = (12, 6)"
   ]
  },
  {
   "cell_type": "markdown",
   "id": "5535e187",
   "metadata": {},
   "source": [
    "## 1. Carga de Datos Limpios\n",
    "\n",
    "Cargamos el dataset previamente limpiado desde la carpeta processed. Convertimos inmediatamente ORDERDATE a formato datetime para permitir operaciones de series temporales. Verificamos el rango de fechas para entender el periodo de análisis."
   ]
  },
  {
   "cell_type": "code",
   "execution_count": null,
   "id": "2d27dac7",
   "metadata": {},
   "outputs": [],
   "source": [
    "df = pd.read_csv('../data/processed/sales_data_clean.csv')\n",
    "df['ORDERDATE'] = pd.to_datetime(df['ORDERDATE'])\n",
    "\n",
    "print(f\"Dataset shape: {df.shape}\")\n",
    "print(f\"Date range: {df['ORDERDATE'].min()} to {df['ORDERDATE'].max()}\")"
   ]
  },
  {
   "cell_type": "markdown",
   "id": "4bacfa2c",
   "metadata": {},
   "source": [
    "## 2. Análisis Univariado\n",
    "\n",
    "El análisis univariado examina cada variable de forma independiente para entender su distribución, centralidad y dispersión.\n",
    "\n",
    "### 2.1 Variables Numéricas\n",
    "\n",
    "Analizamos la distribución de variables cuantitativas usando estadísticas descriptivas y histogramas. Las líneas de media y mediana nos permiten identificar si las distribuciones son simétricas o tienen sesgo. Esto es fundamental para decidir qué técnicas estadísticas aplicar posteriormente."
   ]
  },
  {
   "cell_type": "code",
   "execution_count": null,
   "id": "71777399",
   "metadata": {},
   "outputs": [],
   "source": [
    "numeric_cols = ['QUANTITYORDERED', 'PRICEEACH', 'SALES', 'MSRP']\n",
    "df[numeric_cols].describe()"
   ]
  },
  {
   "cell_type": "code",
   "execution_count": null,
   "id": "d245df6a",
   "metadata": {},
   "outputs": [],
   "source": [
    "fig, axes = plt.subplots(2, 2, figsize=(14, 10))\n",
    "axes = axes.ravel()\n",
    "\n",
    "for idx, col in enumerate(numeric_cols):\n",
    "    axes[idx].hist(df[col], bins=50, edgecolor='black', alpha=0.7)\n",
    "    axes[idx].set_title(f'Distribution of {col}')\n",
    "    axes[idx].set_xlabel(col)\n",
    "    axes[idx].set_ylabel('Frequency')\n",
    "    axes[idx].axvline(df[col].mean(), color='red', linestyle='--', label='Mean')\n",
    "    axes[idx].axvline(df[col].median(), color='green', linestyle='--', label='Median')\n",
    "    axes[idx].legend()\n",
    "\n",
    "plt.tight_layout()\n",
    "plt.savefig('../results/distributions_numerical.png', dpi=300, bbox_inches='tight')\n",
    "plt.show()"
   ]
  },
  {
   "cell_type": "markdown",
   "id": "37a0f9a7",
   "metadata": {},
   "source": [
    "### 2.2 Variables Categóricas\n",
    "\n",
    "Examinamos la frecuencia y distribución de variables cualitativas. Identificamos las categorías más comunes en cada variable, lo cual es esencial para entender la composición del dataset y detectar posibles desequilibrios en los datos que podrían afectar análisis posteriores."
   ]
  },
  {
   "cell_type": "code",
   "execution_count": null,
   "id": "87c554a1",
   "metadata": {},
   "outputs": [],
   "source": [
    "categorical_cols = ['STATUS', 'PRODUCTLINE', 'DEALSIZE', 'COUNTRY', 'TERRITORY']\n",
    "\n",
    "for col in categorical_cols:\n",
    "    print(f\"\\n{col} - Unique values: {df[col].nunique()}\")\n",
    "    print(df[col].value_counts().head(10))"
   ]
  },
  {
   "cell_type": "code",
   "execution_count": null,
   "id": "e10274fb",
   "metadata": {},
   "outputs": [],
   "source": [
    "fig, axes = plt.subplots(2, 3, figsize=(18, 10))\n",
    "axes = axes.ravel()\n",
    "\n",
    "for idx, col in enumerate(categorical_cols):\n",
    "    top_values = df[col].value_counts().head(10)\n",
    "    axes[idx].bar(range(len(top_values)), top_values.values)\n",
    "    axes[idx].set_xticks(range(len(top_values)))\n",
    "    axes[idx].set_xticklabels(top_values.index, rotation=45, ha='right')\n",
    "    axes[idx].set_title(f'Top {col}')\n",
    "    axes[idx].set_ylabel('Count')\n",
    "\n",
    "axes[-1].axis('off')\n",
    "plt.tight_layout()\n",
    "plt.savefig('../results/distributions_categorical.png', dpi=300, bbox_inches='tight')\n",
    "plt.show()"
   ]
  },
  {
   "cell_type": "markdown",
   "id": "29f5da07",
   "metadata": {},
   "source": [
    "## 3. Análisis Bivariado\n",
    "\n",
    "El análisis bivariado explora relaciones entre pares de variables para identificar asociaciones y patrones.\n",
    "\n",
    "### 3.1 Ventas por Línea de Producto\n",
    "\n",
    "Agrupamos las ventas por PRODUCTLINE para identificar qué categorías generan más ingresos. Calculamos tres métricas: suma total (volumen de negocio), promedio (ticket medio) y conteo (volumen de órdenes). Estas métricas combinadas revelan tanto la escala como la eficiencia de cada línea de producto."
   ]
  },
  {
   "cell_type": "code",
   "execution_count": null,
   "id": "b18ababf",
   "metadata": {},
   "outputs": [],
   "source": [
    "sales_by_product = df.groupby('PRODUCTLINE')['SALES'].agg(['sum', 'mean', 'count']).sort_values('sum', ascending=False)\n",
    "sales_by_product.columns = ['Total_Sales', 'Avg_Sales', 'Orders']\n",
    "print(sales_by_product)"
   ]
  },
  {
   "cell_type": "code",
   "execution_count": null,
   "id": "ab5237d8",
   "metadata": {},
   "outputs": [],
   "source": [
    "fig, axes = plt.subplots(1, 2, figsize=(16, 6))\n",
    "\n",
    "axes[0].bar(sales_by_product.index, sales_by_product['Total_Sales'])\n",
    "axes[0].set_title('Total Sales by Product Line')\n",
    "axes[0].set_xlabel('Product Line')\n",
    "axes[0].set_ylabel('Total Sales ($)')\n",
    "axes[0].tick_params(axis='x', rotation=45)\n",
    "\n",
    "axes[1].bar(sales_by_product.index, sales_by_product['Avg_Sales'])\n",
    "axes[1].set_title('Average Sales by Product Line')\n",
    "axes[1].set_xlabel('Product Line')\n",
    "axes[1].set_ylabel('Average Sales ($)')\n",
    "axes[1].tick_params(axis='x', rotation=45)\n",
    "\n",
    "plt.tight_layout()\n",
    "plt.savefig('../results/sales_by_productline.png', dpi=300, bbox_inches='tight')\n",
    "plt.show()"
   ]
  },
  {
   "cell_type": "markdown",
   "id": "ab0bf129",
   "metadata": {},
   "source": [
    "### 3.2 Ventas por País/Territorio\n",
    "\n",
    "Analizamos el desempeño geográfico del negocio. El análisis por país identifica mercados específicos más rentables, mientras que el análisis por territorio (EMEA, NA, APAC, Japan) muestra el desempeño a nivel regional. Esto es crítico para estrategias de expansión y asignación de recursos."
   ]
  },
  {
   "cell_type": "code",
   "execution_count": null,
   "id": "89ede834",
   "metadata": {},
   "outputs": [],
   "source": [
    "sales_by_country = df.groupby('COUNTRY')['SALES'].sum().sort_values(ascending=False).head(15)\n",
    "\n",
    "plt.figure(figsize=(12, 6))\n",
    "plt.barh(sales_by_country.index, sales_by_country.values)\n",
    "plt.xlabel('Total Sales ($)')\n",
    "plt.title('Top 15 Countries by Sales')\n",
    "plt.gca().invert_yaxis()\n",
    "plt.tight_layout()\n",
    "plt.savefig('../results/sales_by_country.png', dpi=300, bbox_inches='tight')\n",
    "plt.show()"
   ]
  },
  {
   "cell_type": "code",
   "execution_count": null,
   "id": "4c6bb8be",
   "metadata": {},
   "outputs": [],
   "source": [
    "sales_by_territory = df.groupby('TERRITORY')['SALES'].sum().sort_values(ascending=False)\n",
    "\n",
    "plt.figure(figsize=(10, 6))\n",
    "plt.pie(sales_by_territory.values, labels=sales_by_territory.index, autopct='%1.1f%%', startangle=90)\n",
    "plt.title('Sales Distribution by Territory')\n",
    "plt.savefig('../results/sales_by_territory.png', dpi=300, bbox_inches='tight')\n",
    "plt.show()"
   ]
  },
  {
   "cell_type": "markdown",
   "id": "6a60a99c",
   "metadata": {},
   "source": [
    "### 3.3 Análisis de Series Temporales\n",
    "\n",
    "Estudiamos la evolución de las ventas a lo largo del tiempo. Creamos la variable YEAR_MONTH agrupando por periodo mensual para identificar tendencias y estacionalidad. El análisis temporal revela patrones de crecimiento, decrecimiento y ciclos que son fundamentales para pronósticos y planificación estratégica."
   ]
  },
  {
   "cell_type": "code",
   "execution_count": null,
   "id": "4e8a5a39",
   "metadata": {},
   "outputs": [],
   "source": [
    "df['YEAR_MONTH'] = df['ORDERDATE'].dt.to_period('M')\n",
    "monthly_sales = df.groupby('YEAR_MONTH')['SALES'].sum()\n",
    "\n",
    "plt.figure(figsize=(14, 6))\n",
    "monthly_sales.plot(kind='line', marker='o')\n",
    "plt.title('Monthly Sales Trend')\n",
    "plt.xlabel('Month')\n",
    "plt.ylabel('Total Sales ($)')\n",
    "plt.xticks(rotation=45)\n",
    "plt.grid(True, alpha=0.3)\n",
    "plt.tight_layout()\n",
    "plt.savefig('../results/monthly_sales_trend.png', dpi=300, bbox_inches='tight')\n",
    "plt.show()"
   ]
  },
  {
   "cell_type": "code",
   "execution_count": null,
   "id": "1cc040c9",
   "metadata": {},
   "outputs": [],
   "source": [
    "sales_by_year = df.groupby('YEAR_ID')['SALES'].sum()\n",
    "sales_by_quarter = df.groupby(['YEAR_ID', 'QTR_ID'])['SALES'].sum().reset_index()\n",
    "\n",
    "fig, axes = plt.subplots(1, 2, figsize=(16, 6))\n",
    "\n",
    "axes[0].bar(sales_by_year.index, sales_by_year.values)\n",
    "axes[0].set_title('Annual Sales')\n",
    "axes[0].set_xlabel('Year')\n",
    "axes[0].set_ylabel('Total Sales ($)')\n",
    "\n",
    "for year in sales_by_quarter['YEAR_ID'].unique():\n",
    "    year_data = sales_by_quarter[sales_by_quarter['YEAR_ID'] == year]\n",
    "    axes[1].plot(year_data['QTR_ID'], year_data['SALES'], marker='o', label=f'Year {year}')\n",
    "\n",
    "axes[1].set_title('Quarterly Sales by Year')\n",
    "axes[1].set_xlabel('Quarter')\n",
    "axes[1].set_ylabel('Total Sales ($)')\n",
    "axes[1].legend()\n",
    "axes[1].set_xticks([1, 2, 3, 4])\n",
    "\n",
    "plt.tight_layout()\n",
    "plt.savefig('../results/annual_quarterly_sales.png', dpi=300, bbox_inches='tight')\n",
    "plt.show()"
   ]
  },
  {
   "cell_type": "markdown",
   "id": "fadbc91e",
   "metadata": {},
   "source": [
    "### 3.4 Análisis por Tamaño de Negociación\n",
    "\n",
    "Examinamos cómo se comportan las ventas según el tamaño del deal (Small, Medium, Large). Calculamos estadísticas por categoría y usamos boxplots para comparar distribuciones. Esto ayuda a entender si los grandes deals tienen características distintivas y a optimizar estrategias de pricing."
   ]
  },
  {
   "cell_type": "code",
   "execution_count": null,
   "id": "d77d7507",
   "metadata": {},
   "outputs": [],
   "source": [
    "dealsize_stats = df.groupby('DEALSIZE').agg({\n",
    "    'SALES': ['sum', 'mean', 'count'],\n",
    "    'QUANTITYORDERED': 'mean'\n",
    "}).round(2)\n",
    "\n",
    "print(dealsize_stats)"
   ]
  },
  {
   "cell_type": "code",
   "execution_count": null,
   "id": "90f4d67a",
   "metadata": {},
   "outputs": [],
   "source": [
    "fig, axes = plt.subplots(1, 2, figsize=(16, 6))\n",
    "\n",
    "df.boxplot(column='SALES', by='DEALSIZE', ax=axes[0])\n",
    "axes[0].set_title('Sales Distribution by Deal Size')\n",
    "axes[0].set_xlabel('Deal Size')\n",
    "axes[0].set_ylabel('Sales ($)')\n",
    "plt.suptitle('')\n",
    "\n",
    "dealsize_counts = df['DEALSIZE'].value_counts()\n",
    "axes[1].pie(dealsize_counts.values, labels=dealsize_counts.index, autopct='%1.1f%%')\n",
    "axes[1].set_title('Distribution of Deal Sizes')\n",
    "\n",
    "plt.tight_layout()\n",
    "plt.savefig('../results/dealsize_analysis.png', dpi=300, bbox_inches='tight')\n",
    "plt.show()"
   ]
  },
  {
   "cell_type": "markdown",
   "id": "8ad2c74b",
   "metadata": {},
   "source": [
    "## 4. Análisis Multivariado\n",
    "\n",
    "El análisis multivariado examina relaciones entre tres o más variables simultáneamente.\n",
    "\n",
    "### 4.1 Análisis de Correlaciones\n",
    "\n",
    "Calculamos la matriz de correlación de Pearson entre variables numéricas. El heatmap visualiza la fuerza y dirección de las relaciones lineales. Correlaciones fuertes (cercanas a 1 o -1) indican que variables se mueven juntas, información valiosa para modelado predictivo y detección de multicolinealidad."
   ]
  },
  {
   "cell_type": "code",
   "execution_count": null,
   "id": "ff0ee9cd",
   "metadata": {},
   "outputs": [],
   "source": [
    "numeric_features = ['QUANTITYORDERED', 'PRICEEACH', 'SALES', 'MSRP']\n",
    "correlation_matrix = df[numeric_features].corr()\n",
    "\n",
    "plt.figure(figsize=(10, 8))\n",
    "sns.heatmap(correlation_matrix, annot=True, cmap='coolwarm', center=0, \n",
    "            square=True, linewidths=1, cbar_kws={\"shrink\": 0.8})\n",
    "plt.title('Correlation Matrix')\n",
    "plt.tight_layout()\n",
    "plt.savefig('../results/correlation_matrix.png', dpi=300, bbox_inches='tight')\n",
    "plt.show()"
   ]
  },
  {
   "cell_type": "markdown",
   "id": "d28caf91",
   "metadata": {},
   "source": [
    "### 4.2 Análisis Cruzado: Línea de Producto vs Territorio\n",
    "\n",
    "Creamos una tabla dinámica (pivot table) que cruza dos variables categóricas para ver ventas totales en cada combinación. El heatmap resultante identifica qué productos funcionan mejor en qué regiones, permitiendo estrategias de marketing geográficamente segmentadas."
   ]
  },
  {
   "cell_type": "code",
   "execution_count": null,
   "id": "2f74e05c",
   "metadata": {},
   "outputs": [],
   "source": [
    "pivot_table = df.pivot_table(values='SALES', index='PRODUCTLINE', \n",
    "                              columns='TERRITORY', aggfunc='sum', fill_value=0)\n",
    "\n",
    "plt.figure(figsize=(12, 8))\n",
    "sns.heatmap(pivot_table, annot=True, fmt='.0f', cmap='YlOrRd', linewidths=0.5)\n",
    "plt.title('Sales by Product Line and Territory')\n",
    "plt.tight_layout()\n",
    "plt.savefig('../results/productline_territory_heatmap.png', dpi=300, bbox_inches='tight')\n",
    "plt.show()"
   ]
  },
  {
   "cell_type": "markdown",
   "id": "c18e04de",
   "metadata": {},
   "source": [
    "### 4.3 Análisis de Principales Clientes\n",
    "\n",
    "Identificamos los 20 clientes más valiosos agregando ventas por CUSTOMERNAME. El scatter plot relaciona número de órdenes con ventas totales, revelando diferentes perfiles: clientes de alto volumen/alta frecuencia vs clientes de alto valor/baja frecuencia. Esta segmentación es clave para estrategias CRM."
   ]
  },
  {
   "cell_type": "code",
   "execution_count": null,
   "id": "60a536aa",
   "metadata": {},
   "outputs": [],
   "source": [
    "top_customers = df.groupby('CUSTOMERNAME').agg({\n",
    "    'SALES': 'sum',\n",
    "    'ORDERNUMBER': 'nunique'\n",
    "}).sort_values('SALES', ascending=False).head(20)\n",
    "\n",
    "top_customers.columns = ['Total_Sales', 'Number_of_Orders']\n",
    "print(\"Top 20 Customers:\")\n",
    "print(top_customers)"
   ]
  },
  {
   "cell_type": "code",
   "execution_count": null,
   "id": "4ccde6fd",
   "metadata": {},
   "outputs": [],
   "source": [
    "fig, axes = plt.subplots(1, 2, figsize=(18, 6))\n",
    "\n",
    "axes[0].barh(range(len(top_customers)), top_customers['Total_Sales'])\n",
    "axes[0].set_yticks(range(len(top_customers)))\n",
    "axes[0].set_yticklabels(top_customers.index)\n",
    "axes[0].set_xlabel('Total Sales ($)')\n",
    "axes[0].set_title('Top 20 Customers by Sales')\n",
    "axes[0].invert_yaxis()\n",
    "\n",
    "axes[1].scatter(top_customers['Number_of_Orders'], top_customers['Total_Sales'], alpha=0.6, s=100)\n",
    "axes[1].set_xlabel('Number of Orders')\n",
    "axes[1].set_ylabel('Total Sales ($)')\n",
    "axes[1].set_title('Customer Orders vs Sales')\n",
    "axes[1].grid(True, alpha=0.3)\n",
    "\n",
    "plt.tight_layout()\n",
    "plt.savefig('../results/top_customers_analysis.png', dpi=300, bbox_inches='tight')\n",
    "plt.show()"
   ]
  },
  {
   "cell_type": "markdown",
   "id": "b3907a9e",
   "metadata": {},
   "source": [
    "## 5. Análisis de Estado de Órdenes\n",
    "\n",
    "Analizamos la distribución de STATUS para entender la tasa de cumplimiento de órdenes. Calculamos métricas agregadas por estado (Shipped, Cancelled, Disputed, etc.) para identificar problemas operativos. Órdenes no completadas representan ingresos perdidos y oportunidades de mejora de procesos."
   ]
  },
  {
   "cell_type": "code",
   "execution_count": null,
   "id": "7fa082c2",
   "metadata": {},
   "outputs": [],
   "source": [
    "status_analysis = df.groupby('STATUS').agg({\n",
    "    'ORDERNUMBER': 'count',\n",
    "    'SALES': ['sum', 'mean']\n",
    "}).round(2)\n",
    "\n",
    "print(\"Order Status Summary:\")\n",
    "print(status_analysis)"
   ]
  },
  {
   "cell_type": "code",
   "execution_count": null,
   "id": "decc9ae3",
   "metadata": {},
   "outputs": [],
   "source": [
    "status_counts = df['STATUS'].value_counts()\n",
    "\n",
    "plt.figure(figsize=(10, 6))\n",
    "plt.bar(status_counts.index, status_counts.values)\n",
    "plt.title('Order Status Distribution')\n",
    "plt.xlabel('Status')\n",
    "plt.ylabel('Count')\n",
    "plt.xticks(rotation=45)\n",
    "plt.tight_layout()\n",
    "plt.savefig('../results/order_status_distribution.png', dpi=300, bbox_inches='tight')\n",
    "plt.show()"
   ]
  },
  {
   "cell_type": "markdown",
   "id": "6cebd4ef",
   "metadata": {},
   "source": [
    "## 6. Exportación de Estadísticas Resumen\n",
    "\n",
    "Compilamos métricas clave del negocio en un diccionario: ventas totales, número de órdenes únicas, clientes únicos, valor promedio de orden, productos únicos, países y rango de fechas. Estas estadísticas se exportan a CSV para uso en reportes ejecutivos y dashboards."
   ]
  },
  {
   "cell_type": "code",
   "execution_count": null,
   "id": "7d986433",
   "metadata": {},
   "outputs": [],
   "source": [
    "summary_stats = {\n",
    "    'total_sales': df['SALES'].sum(),\n",
    "    'total_orders': df['ORDERNUMBER'].nunique(),\n",
    "    'total_customers': df['CUSTOMERNAME'].nunique(),\n",
    "    'avg_order_value': df.groupby('ORDERNUMBER')['SALES'].sum().mean(),\n",
    "    'total_products': df['PRODUCTCODE'].nunique(),\n",
    "    'countries': df['COUNTRY'].nunique(),\n",
    "    'date_range': f\"{df['ORDERDATE'].min()} to {df['ORDERDATE'].max()}\"\n",
    "}\n",
    "\n",
    "print(\"\\n\" + \"=\"*50)\n",
    "print(\"EDA SUMMARY STATISTICS\")\n",
    "print(\"=\"*50)\n",
    "for key, value in summary_stats.items():\n",
    "    print(f\"{key.replace('_', ' ').title()}: {value}\")\n",
    "\n",
    "pd.Series(summary_stats).to_csv('../results/summary_statistics.csv')\n",
    "print(\"\\nSummary statistics saved to results/summary_statistics.csv\")"
   ]
  }
 ],
 "metadata": {
  "language_info": {
   "name": "python"
  }
 },
 "nbformat": 4,
 "nbformat_minor": 5
}
