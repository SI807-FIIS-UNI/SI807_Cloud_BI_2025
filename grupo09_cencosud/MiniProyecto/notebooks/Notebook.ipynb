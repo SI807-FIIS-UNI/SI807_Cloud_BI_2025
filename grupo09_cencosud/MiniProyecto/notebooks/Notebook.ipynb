
# 1️⃣ Importar librerías
import pandas as pd
import numpy as np
import matplotlib.pyplot as plt
import seaborn as sns
import os

# 2️⃣ Configurar ruta del archivo
# 👉 Cambia el nombre del CSV si es necesario
ruta_base = r"C:/Users/PCE/SI807_Cloud_BI_2025/grupo09_cencosud/MiniProyecto/data/raw"
archivo = "nombre_del_dataset.csv"   # 🔹 Reemplaza por el nombre real
ruta_csv = os.path.join(ruta_base, archivo)

# 3️⃣ Cargar el dataset
df = pd.read_csv(ruta_csv, encoding="utf-8")  # o "latin-1" si hay tildes raras
print(f"✅ Dataset cargado correctamente con {df.shape[0]} filas y {df.shape[1]} columnas")

# 4️⃣ Vista general
print("\n📋 Primeras filas:")
display(df.head())

print("\n📊 Información general:")
df.info()

print("\n🔢 Descripción estadística:")
display(df.describe(include='all').transpose())

# 5️⃣ Valores nulos
print("\n🚫 Valores nulos por columna:")
display(df.isna().sum().sort_values(ascending=False))

# 6️⃣ Tipos de datos
print("\n🧩 Tipos de datos:")
display(df.dtypes)

# 7️⃣ Columnas categóricas y numéricas
cat_cols = df.select_dtypes(include='object').columns
num_cols = df.select_dtypes(include=np.number).columns

print(f"\n🔠 Variables categóricas: {list(cat_cols)}")
print(f"🔢 Variables numéricas: {list(num_cols)}")
