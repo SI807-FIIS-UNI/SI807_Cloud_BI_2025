{
 "cells": [
  {
   "cell_type": "markdown",
   "id": "81426029",
   "metadata": {},
   "source": [
    "# Inicio"
   ]
  }
 ],
 "metadata": {
  "language_info": {
   "name": "python"
  }
 },
 "nbformat": 4,
 "nbformat_minor": 5
}
